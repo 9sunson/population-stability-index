{
 "cells": [
  {
   "cell_type": "markdown",
   "metadata": {},
   "source": [
    "# PSI Walkthrough\n",
    "\n"
   ]
  },
  {
   "cell_type": "code",
   "execution_count": 38,
   "metadata": {
    "collapsed": false
   },
   "outputs": [],
   "source": [
    "%matplotlib inline\n",
    "import numpy as np\n",
    "import pandas as pd\n",
    "import seaborn as sns\n",
    "import matplotlib.pyplot as plt\n",
    "from psi import calculate_psi"
   ]
  },
  {
   "cell_type": "code",
   "execution_count": 20,
   "metadata": {
    "collapsed": false
   },
   "outputs": [],
   "source": [
    "sns.set(style=\"white\", palette=\"muted\", color_codes=True)\n",
    "sns.kdeplot(new, shade = True)\n",
    "sns.despine(left = True)\n",
    "\n",
    "rs = np.random.RandomState(5)\n",
    "\n",
    "initial = rs.normal(size = 100)\n",
    "new = rs.normal(loc = 0.2, size = 120)"
   ]
  },
  {
   "cell_type": "code",
   "execution_count": 33,
   "metadata": {
    "collapsed": false
   },
   "outputs": [
    {
     "data": {
      "image/png": "[encoded data removed]",
      "text/plain": [
       "<matplotlib.figure.Figure at 0x7f41674f88d0>"
      ]
     },
     "metadata": {},
     "output_type": "display_data"
    }
   ],
   "source": [
    "plot = sns.kdeplot(initial, shade=True)\n",
    "plot = sns.kdeplot(new, shade=True)\n",
    "plot.set(yticklabels=[], xticklabels = [])\n",
    "sns.despine(left=True)"
   ]
  },
  {
   "cell_type": "code",
   "execution_count": 34,
   "metadata": {
    "collapsed": false
   },
   "outputs": [],
   "source": [
    "buckets = 10\n",
    "breakpoints = np.arange(0, buckets + 1) / (buckets) * 100\n",
    "quantiles = np.stack([np.percentile(initial, b) for b in breakpoints])"
   ]
  },
  {
   "cell_type": "code",
   "execution_count": 52,
   "metadata": {
    "collapsed": false
   },
   "outputs": [],
   "source": [
    "def generate_counts(arr, quantiles):\n",
    "            '''Generates counts for each bucket by using the quantile values \n",
    "            \n",
    "            Args:\n",
    "               arr: ndarray of actual values\n",
    "               quantiles: list of quantile values\n",
    "            \n",
    "            Returns:\n",
    "               counts: counts for elements in each bucket, length of quantiles array minus one\n",
    "            '''\n",
    "    \n",
    "            def count_in_range(arr, low, high, start):\n",
    "                '''Counts elements in array between low and high values.\n",
    "                   Includes value if start is true\n",
    "                '''\n",
    "                if start:\n",
    "                    return(len(np.where(np.logical_and(arr>=low, arr<=high))[0]))\n",
    "                return(len(np.where(np.logical_and(arr>low, arr<=high))[0]))\n",
    "        \n",
    "            \n",
    "            counts = np.zeros(len(quantiles)-1)\n",
    "        \n",
    "            for i in range(1, len(quantiles)):\n",
    "                counts[i-1] = count_in_range(arr, quantiles[i-1], quantiles[i], i==1)\n",
    "        \n",
    "            return(counts)\n",
    "        \n",
    "        \n",
    "initial_counts = generate_counts(initial, quantiles)\n",
    "new_counts = generate_counts(new, quantiles)"
   ]
  },
  {
   "cell_type": "code",
   "execution_count": 63,
   "metadata": {
    "collapsed": false
   },
   "outputs": [],
   "source": [
    "df = pd.DataFrame({'Quantile Group': np.arange(1, 11), 'Quantile Value':quantiles[1:], 'Initial Count':initial_counts, 'New Count':new_counts})\n",
    "df['Initial Percent'] = df['Initial Count'] / len(initial)\n",
    "df['New Percent'] = df['New Count'] / len(new)"
   ]
  },
  {
   "cell_type": "code",
   "execution_count": 64,
   "metadata": {
    "collapsed": false
   },
   "outputs": [
    {
     "data": {
      "text/html": [
       "<div>\n",
       "<style scoped>\n",
       "    .dataframe tbody tr th:only-of-type {\n",
       "        vertical-align: middle;\n",
       "    }\n",
       "\n",
       "    .dataframe tbody tr th {\n",
       "        vertical-align: top;\n",
       "    }\n",
       "\n",
       "    .dataframe thead th {\n",
       "        text-align: right;\n",
       "    }\n",
       "</style>\n",
       "<table border=\"1\" class=\"dataframe\">\n",
       "  <thead>\n",
       "    <tr style=\"text-align: right;\">\n",
       "      <th></th>\n",
       "      <th>Initial Count</th>\n",
       "      <th>New Count</th>\n",
       "      <th>Quantile Group</th>\n",
       "      <th>Quantile Value</th>\n",
       "      <th>Initial Percent</th>\n",
       "      <th>New Percent</th>\n",
       "    </tr>\n",
       "  </thead>\n",
       "  <tbody>\n",
       "    <tr>\n",
       "      <th>0</th>\n",
       "      <td>10.0</td>\n",
       "      <td>20.0</td>\n",
       "      <td>1</td>\n",
       "      <td>-0.875615</td>\n",
       "      <td>0.1</td>\n",
       "      <td>0.166667</td>\n",
       "    </tr>\n",
       "    <tr>\n",
       "      <th>1</th>\n",
       "      <td>10.0</td>\n",
       "      <td>8.0</td>\n",
       "      <td>2</td>\n",
       "      <td>-0.605002</td>\n",
       "      <td>0.1</td>\n",
       "      <td>0.066667</td>\n",
       "    </tr>\n",
       "    <tr>\n",
       "      <th>2</th>\n",
       "      <td>10.0</td>\n",
       "      <td>6.0</td>\n",
       "      <td>3</td>\n",
       "      <td>-0.423865</td>\n",
       "      <td>0.1</td>\n",
       "      <td>0.050000</td>\n",
       "    </tr>\n",
       "    <tr>\n",
       "      <th>3</th>\n",
       "      <td>10.0</td>\n",
       "      <td>8.0</td>\n",
       "      <td>4</td>\n",
       "      <td>-0.225397</td>\n",
       "      <td>0.1</td>\n",
       "      <td>0.066667</td>\n",
       "    </tr>\n",
       "    <tr>\n",
       "      <th>4</th>\n",
       "      <td>10.0</td>\n",
       "      <td>9.0</td>\n",
       "      <td>5</td>\n",
       "      <td>-0.062951</td>\n",
       "      <td>0.1</td>\n",
       "      <td>0.075000</td>\n",
       "    </tr>\n",
       "    <tr>\n",
       "      <th>5</th>\n",
       "      <td>10.0</td>\n",
       "      <td>9.0</td>\n",
       "      <td>6</td>\n",
       "      <td>0.207098</td>\n",
       "      <td>0.1</td>\n",
       "      <td>0.075000</td>\n",
       "    </tr>\n",
       "    <tr>\n",
       "      <th>6</th>\n",
       "      <td>10.0</td>\n",
       "      <td>14.0</td>\n",
       "      <td>7</td>\n",
       "      <td>0.578734</td>\n",
       "      <td>0.1</td>\n",
       "      <td>0.116667</td>\n",
       "    </tr>\n",
       "    <tr>\n",
       "      <th>7</th>\n",
       "      <td>10.0</td>\n",
       "      <td>17.0</td>\n",
       "      <td>8</td>\n",
       "      <td>0.892560</td>\n",
       "      <td>0.1</td>\n",
       "      <td>0.141667</td>\n",
       "    </tr>\n",
       "    <tr>\n",
       "      <th>8</th>\n",
       "      <td>10.0</td>\n",
       "      <td>13.0</td>\n",
       "      <td>9</td>\n",
       "      <td>1.296252</td>\n",
       "      <td>0.1</td>\n",
       "      <td>0.108333</td>\n",
       "    </tr>\n",
       "    <tr>\n",
       "      <th>9</th>\n",
       "      <td>10.0</td>\n",
       "      <td>13.0</td>\n",
       "      <td>10</td>\n",
       "      <td>2.430771</td>\n",
       "      <td>0.1</td>\n",
       "      <td>0.108333</td>\n",
       "    </tr>\n",
       "  </tbody>\n",
       "</table>\n",
       "</div>"
      ],
      "text/plain": [
       "   Initial Count  New Count  Quantile Group  Quantile Value  Initial Percent  \\\n",
       "0           10.0       20.0               1       -0.875615              0.1   \n",
       "1           10.0        8.0               2       -0.605002              0.1   \n",
       "2           10.0        6.0               3       -0.423865              0.1   \n",
       "3           10.0        8.0               4       -0.225397              0.1   \n",
       "4           10.0        9.0               5       -0.062951              0.1   \n",
       "5           10.0        9.0               6        0.207098              0.1   \n",
       "6           10.0       14.0               7        0.578734              0.1   \n",
       "7           10.0       17.0               8        0.892560              0.1   \n",
       "8           10.0       13.0               9        1.296252              0.1   \n",
       "9           10.0       13.0              10        2.430771              0.1   \n",
       "\n",
       "   New Percent  \n",
       "0     0.166667  \n",
       "1     0.066667  \n",
       "2     0.050000  \n",
       "3     0.066667  \n",
       "4     0.075000  \n",
       "5     0.075000  \n",
       "6     0.116667  \n",
       "7     0.141667  \n",
       "8     0.108333  \n",
       "9     0.108333  "
      ]
     },
     "execution_count": 64,
     "metadata": {},
     "output_type": "execute_result"
    }
   ],
   "source": [
    "df"
   ]
  },
  {
   "cell_type": "code",
   "execution_count": 92,
   "metadata": {
    "collapsed": false
   },
   "outputs": [],
   "source": [
    "percents = df[['Initial Percent', 'New Percent', 'Quantile Group']] \\\n",
    "             .melt(id_vars=['Quantile Group']) \\\n",
    "             .rename(columns={'variable':'Population', 'value':'Percent'})"
   ]
  },
  {
   "cell_type": "code",
   "execution_count": 93,
   "metadata": {
    "collapsed": false,
    "scrolled": true
   },
   "outputs": [
    {
     "data": {
      "text/html": [
       "<div>\n",
       "<style scoped>\n",
       "    .dataframe tbody tr th:only-of-type {\n",
       "        vertical-align: middle;\n",
       "    }\n",
       "\n",
       "    .dataframe tbody tr th {\n",
       "        vertical-align: top;\n",
       "    }\n",
       "\n",
       "    .dataframe thead th {\n",
       "        text-align: right;\n",
       "    }\n",
       "</style>\n",
       "<table border=\"1\" class=\"dataframe\">\n",
       "  <thead>\n",
       "    <tr style=\"text-align: right;\">\n",
       "      <th></th>\n",
       "      <th>Quantile Group</th>\n",
       "      <th>Population</th>\n",
       "      <th>Percent</th>\n",
       "    </tr>\n",
       "  </thead>\n",
       "  <tbody>\n",
       "    <tr>\n",
       "      <th>0</th>\n",
       "      <td>1</td>\n",
       "      <td>Initial Percent</td>\n",
       "      <td>0.1</td>\n",
       "    </tr>\n",
       "    <tr>\n",
       "      <th>1</th>\n",
       "      <td>2</td>\n",
       "      <td>Initial Percent</td>\n",
       "      <td>0.1</td>\n",
       "    </tr>\n",
       "    <tr>\n",
       "      <th>2</th>\n",
       "      <td>3</td>\n",
       "      <td>Initial Percent</td>\n",
       "      <td>0.1</td>\n",
       "    </tr>\n",
       "    <tr>\n",
       "      <th>3</th>\n",
       "      <td>4</td>\n",
       "      <td>Initial Percent</td>\n",
       "      <td>0.1</td>\n",
       "    </tr>\n",
       "    <tr>\n",
       "      <th>4</th>\n",
       "      <td>5</td>\n",
       "      <td>Initial Percent</td>\n",
       "      <td>0.1</td>\n",
       "    </tr>\n",
       "  </tbody>\n",
       "</table>\n",
       "</div>"
      ],
      "text/plain": [
       "   Quantile Group       Population  Percent\n",
       "0               1  Initial Percent      0.1\n",
       "1               2  Initial Percent      0.1\n",
       "2               3  Initial Percent      0.1\n",
       "3               4  Initial Percent      0.1\n",
       "4               5  Initial Percent      0.1"
      ]
     },
     "execution_count": 93,
     "metadata": {},
     "output_type": "execute_result"
    }
   ],
   "source": [
    "percents.head()"
   ]
  },
  {
   "cell_type": "code",
   "execution_count": 91,
   "metadata": {
    "collapsed": false
   },
   "outputs": [
    {
     "name": "stderr",
     "output_type": "stream",
     "text": [
      "/usr/local/lib/python3.5/dist-packages/seaborn/categorical.py:1508: FutureWarning: remove_na is deprecated and is a private function. Do not use.\n",
      "  stat_data = remove_na(group_data[hue_mask])\n"
     ]
    },
    {
     "data": {
      "image/png": "[encoded data removed]",
      "text/plain": [
       "<matplotlib.figure.Figure at 0x7f4166b5efd0>"
      ]
     },
     "metadata": {},
     "output_type": "display_data"
    }
   ],
   "source": [
    "sns.barplot(x=\"Quantile Group\", y=\"Percent\", hue=\"Population\", data=percents)\n",
    "plot.set(yticklabels=[], xticklabels = [])\n",
    "sns.despine(left=True)"
   ]
  },
  {
   "cell_type": "markdown",
   "metadata": {},
   "source": [
    "$PSI = \\sum{}\\Big(\\big(Actual \\% - Expected \\%\\big) \\times ln\\big(\\dfrac{Actual \\%}{Expected \\%}\\big)\\Big)$"
   ]
  },
  {
   "cell_type": "code",
   "execution_count": 86,
   "metadata": {
    "collapsed": false
   },
   "outputs": [],
   "source": [
    "df['PSI'] = (df['New Percent'] - df['Initial Percent']) * np.log(df['New Percent'] / df['Initial Percent'])"
   ]
  },
  {
   "cell_type": "code",
   "execution_count": 88,
   "metadata": {
    "collapsed": false
   },
   "outputs": [
    {
     "data": {
      "text/plain": [
       "0.1285435134950522"
      ]
     },
     "execution_count": 88,
     "metadata": {},
     "output_type": "execute_result"
    }
   ],
   "source": [
    "np.sum(df['PSI'])"
   ]
  },
  {
   "cell_type": "code",
   "execution_count": 99,
   "metadata": {
    "collapsed": false
   },
   "outputs": [
    {
     "data": {
      "text/plain": [
       "True"
      ]
     },
     "execution_count": 99,
     "metadata": {},
     "output_type": "execute_result"
    }
   ],
   "source": [
    "np.round(calculate_psi(initial, new, buckets=10, axis=1), 5) == np.round(np.sum(df['PSI']), 5)"
   ]
  }
 ],
 "metadata": {
  "kernelspec": {
   "display_name": "Python 3",
   "language": "python",
   "name": "python3"
  },
  "language_info": {
   "codemirror_mode": {
    "name": "ipython",
    "version": 3
   },
   "file_extension": ".py",
   "mimetype": "text/x-python",
   "name": "python",
   "nbconvert_exporter": "python",
   "pygments_lexer": "ipython3",
   "version": "3.5.2"
  }
 },
 "nbformat": 4,
 "nbformat_minor": 2
}
